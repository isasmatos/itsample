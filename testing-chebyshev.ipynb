{
 "cells": [
  {
   "cell_type": "markdown",
   "metadata": {},
   "source": [
    "# Inverse Transform Sampling with Chebyshev Polynomials\n",
    "\n",
    "I'm working on coding up an inverse transform sampler that uses Chebyshev approximations of the CDF to speed things up. This follows the work of [Olver & Townsend, 2013](https://arxiv.org/pdf/1307.1223.pdf).\n",
    "\n",
    "We'll see that this approach is not as fast as we would hope. The key here is that the function `chebeval` is highly vectorized, and so is much faster than a numerically integrated CDF **when evaluated at many inputs simultaneously.** However, the root-finding functions in scipy do one evaluation at each iteration, so they do not take advantage of this vectorized structure. When doing single evaluations of the functions, `chebeval` is about the same speed as `quad`.\n",
    "\n",
    "The MATLAB code for this function (called `sample` in the paper) does not appear to be in the library [`chebfun`](http://www.chebfun.org/), so I cannot see how they attained the speeds reported in the paper. Presumably we need to implement a root-finding algorithm that takes advantage of the vectorized nature of `chebeval`, but I am not sure which would be best at this point."
   ]
  },
  {
   "cell_type": "markdown",
   "metadata": {},
   "source": [
    "We'll follow the example from the original notebook `example.ipynb`, and use it to test timing and accuracy of this approach against the \"naive\" approach, in which the CDF is constructed via numerical quadrature."
   ]
  },
  {
   "cell_type": "code",
   "execution_count": 1,
   "metadata": {},
   "outputs": [],
   "source": [
    "import numpy as np\n",
    "from matplotlib import pyplot as plt"
   ]
  },
  {
   "cell_type": "code",
   "execution_count": 2,
   "metadata": {},
   "outputs": [],
   "source": [
    "def pdf(x):\n",
    "    \"\"\"A unit normal density, NOT normalized\"\"\"\n",
    "    return np.exp(-x**2/2)"
   ]
  },
  {
   "cell_type": "code",
   "execution_count": 3,
   "metadata": {},
   "outputs": [
    {
     "data": {
      "image/png": "[encoded data removed]",
      "text/plain": [
       "<Figure size 432x288 with 1 Axes>"
      ]
     },
     "metadata": {},
     "output_type": "display_data"
    }
   ],
   "source": [
    "x = np.linspace(-5,5,100)\n",
    "plt.plot(x,pdf(x));"
   ]
  },
  {
   "cell_type": "markdown",
   "metadata": {},
   "source": [
    "So we've got ourselves a PDF, albeit without a normalization factor. Now let's use `sample` to draw samples from this distribution. **In this case we need to use upper and lower bounds so that our Chebyshev approach can be compared.**"
   ]
  },
  {
   "cell_type": "code",
   "execution_count": 4,
   "metadata": {},
   "outputs": [],
   "source": [
    "import sys; sys.path.append('/Users/peterwills/google-drive/python/my_packages/itsample/')\n",
    "from itsample import sample"
   ]
  },
  {
   "cell_type": "code",
   "execution_count": 5,
   "metadata": {},
   "outputs": [
    {
     "name": "stdout",
     "output_type": "stream",
     "text": [
      "1.96 ms ± 187 µs per loop (mean ± std. dev. of 7 runs, 1000 loops each)\n"
     ]
    }
   ],
   "source": [
    "%%timeit\n",
    "samples = sample(pdf,1,lower_bd=-10, upper_bd=10)"
   ]
  },
  {
   "cell_type": "code",
   "execution_count": 6,
   "metadata": {},
   "outputs": [
    {
     "name": "stdout",
     "output_type": "stream",
     "text": [
      "2.65 ms ± 1.46 ms per loop (mean ± std. dev. of 7 runs, 1000 loops each)\n"
     ]
    }
   ],
   "source": [
    "%%timeit\n",
    "samples = sample(pdf,1,lower_bd=-10, upper_bd=10,chebyshev=True)"
   ]
  },
  {
   "cell_type": "code",
   "execution_count": 7,
   "metadata": {},
   "outputs": [
    {
     "name": "stdout",
     "output_type": "stream",
     "text": [
      "CPU times: user 7.95 s, sys: 106 ms, total: 8.05 s\n",
      "Wall time: 8.7 s\n"
     ]
    }
   ],
   "source": [
    "%%time\n",
    "samples = sample(pdf,5000,lower_bd=-10, upper_bd=10)"
   ]
  },
  {
   "cell_type": "code",
   "execution_count": 8,
   "metadata": {},
   "outputs": [
    {
     "name": "stdout",
     "output_type": "stream",
     "text": [
      "CPU times: user 4.11 s, sys: 40.3 ms, total: 4.15 s\n",
      "Wall time: 4.18 s\n"
     ]
    }
   ],
   "source": [
    "%%time\n",
    "samples = sample(pdf,5000,lower_bd=-10, upper_bd=10,chebyshev=True)"
   ]
  },
  {
   "cell_type": "markdown",
   "metadata": {},
   "source": [
    "Gettong a single sample takes the same amount of time, which is disappointing. Getting many samples reduces the time somewhat, but we were hoping for better than what we see here. Note that in the original paper, the author claims to get **10,000 samples in <1 second.*** So we're about a factor of 15 off from that.\n",
    "\n",
    "Let's make sure that we're getting accurate results."
   ]
  },
  {
   "cell_type": "code",
   "execution_count": 9,
   "metadata": {},
   "outputs": [],
   "source": [
    "from itsample import normalize\n",
    "pdf_norm = normalize(pdf, vectorize=True)"
   ]
  },
  {
   "cell_type": "code",
   "execution_count": 10,
   "metadata": {},
   "outputs": [
    {
     "data": {
      "text/plain": [
       "[<matplotlib.lines.Line2D at 0x108550fd0>]"
      ]
     },
     "execution_count": 10,
     "metadata": {},
     "output_type": "execute_result"
    },
    {
     "data": {
      "image/png": "[encoded data removed]",
      "text/plain": [
       "<Figure size 432x288 with 1 Axes>"
      ]
     },
     "metadata": {},
     "output_type": "display_data"
    }
   ],
   "source": [
    "plt.hist(samples,bins=100,density=True);\n",
    "x = np.linspace(-3,3)\n",
    "plt.plot(x,pdf_norm(x))"
   ]
  },
  {
   "cell_type": "markdown",
   "metadata": {},
   "source": [
    "# Line Profiling"
   ]
  },
  {
   "cell_type": "code",
   "execution_count": 15,
   "metadata": {},
   "outputs": [],
   "source": [
    "%load_ext line_profiler"
   ]
  },
  {
   "cell_type": "code",
   "execution_count": 16,
   "metadata": {},
   "outputs": [],
   "source": [
    "%lprun -f sample sample(pdf,5000,lower_bd=lower_bd,upper_bd=upper_bd, guess=guess)"
   ]
  },
  {
   "cell_type": "markdown",
   "metadata": {},
   "source": [
    "### How long does it take to do function calls for each type of CDF?"
   ]
  },
  {
   "cell_type": "code",
   "execution_count": 17,
   "metadata": {},
   "outputs": [],
   "source": [
    "from itsample import chebcdf, get_cdf"
   ]
  },
  {
   "cell_type": "code",
   "execution_count": 18,
   "metadata": {},
   "outputs": [
    {
     "name": "stderr",
     "output_type": "stream",
     "text": [
      "/Users/peterwills/google-drive/python/my_packages/itsample/itsample.py:128: RankWarning: The fit may be poorly conditioned\n",
      "  coeffs = chebfit(x,y,n-1)\n"
     ]
    }
   ],
   "source": [
    "cdf = get_cdf(pdf,lower_bd,upper_bd)\n",
    "cdf_cheb = chebcdf(pdf,lower_bd,upper_bd)"
   ]
  },
  {
   "cell_type": "code",
   "execution_count": 19,
   "metadata": {
    "scrolled": true
   },
   "outputs": [
    {
     "name": "stdout",
     "output_type": "stream",
     "text": [
      "58.9 µs ± 6.87 µs per loop (mean ± std. dev. of 7 runs, 10000 loops each)\n"
     ]
    }
   ],
   "source": [
    "%%timeit\n",
    "cdf(x[0:1])"
   ]
  },
  {
   "cell_type": "code",
   "execution_count": 20,
   "metadata": {
    "scrolled": true
   },
   "outputs": [
    {
     "name": "stdout",
     "output_type": "stream",
     "text": [
      "66.5 µs ± 694 ns per loop (mean ± std. dev. of 7 runs, 10000 loops each)\n"
     ]
    }
   ],
   "source": [
    "%%timeit\n",
    "cdf_cheb(x[0:1])"
   ]
  },
  {
   "cell_type": "code",
   "execution_count": 21,
   "metadata": {},
   "outputs": [],
   "source": [
    "x = np.linspace(lower_bd, upper_bd, 100)"
   ]
  },
  {
   "cell_type": "code",
   "execution_count": 22,
   "metadata": {
    "scrolled": true
   },
   "outputs": [
    {
     "name": "stdout",
     "output_type": "stream",
     "text": [
      "8.1 ms ± 912 µs per loop (mean ± std. dev. of 7 runs, 100 loops each)\n"
     ]
    }
   ],
   "source": [
    "%%timeit\n",
    "cdf(x)"
   ]
  },
  {
   "cell_type": "code",
   "execution_count": 23,
   "metadata": {
    "scrolled": true
   },
   "outputs": [
    {
     "name": "stdout",
     "output_type": "stream",
     "text": [
      "92.9 µs ± 1.13 µs per loop (mean ± std. dev. of 7 runs, 10000 loops each)\n"
     ]
    }
   ],
   "source": [
    "%%timeit\n",
    "cdf_cheb(x)"
   ]
  },
  {
   "cell_type": "markdown",
   "metadata": {},
   "source": [
    "So evaluation of the chebyshev CDF is much faster if everything is properly vectorized, but is comparable if evaluating on a single scalar. Why doesn't this translate to better performance in `root`?"
   ]
  },
  {
   "cell_type": "code",
   "execution_count": 24,
   "metadata": {},
   "outputs": [],
   "source": [
    "from scipy.optimize import root"
   ]
  },
  {
   "cell_type": "code",
   "execution_count": 25,
   "metadata": {},
   "outputs": [],
   "source": [
    "seed = 0.5\n",
    "cdf_shifted = lambda x: cdf(x)-seed\n",
    "chebcdf_shifted = lambda x: cdf_cheb(x)-seed"
   ]
  },
  {
   "cell_type": "code",
   "execution_count": 26,
   "metadata": {},
   "outputs": [],
   "source": [
    "%lprun -f root root(cdf_shifted,1)"
   ]
  },
  {
   "cell_type": "markdown",
   "metadata": {},
   "source": [
    "Hrm, well that's not very illuminating. Just buries it deeper in some C code that scipy calls.\n",
    "\n",
    "Anyways, this is mysterious to me. It seems intuitive that a single call to `chebeval` should be much faster than a single call to `quad`, which is what the original function does. I guess what it's doing in there is a big matrix multiplication, so it makes sense that it's just about as fast for 100 points as for 1. What we want is a root-finder that takes advantage of this, although I'm somewhat lost on how to do that. Perhaps evaluate on some grid, do bisection, and then evaluate on a smaller grid if need be? Sounds slow though, we'd be wasting a lot of computational power."
   ]
  }
 ],
 "metadata": {
  "kernelspec": {
   "display_name": "Python 3",
   "language": "python",
   "name": "python3"
  },
  "language_info": {
   "codemirror_mode": {
    "name": "ipython",
    "version": 3
   },
   "file_extension": ".py",
   "mimetype": "text/x-python",
   "name": "python",
   "nbconvert_exporter": "python",
   "pygments_lexer": "ipython3",
   "version": "3.6.5"
  }
 },
 "nbformat": 4,
 "nbformat_minor": 2
}
